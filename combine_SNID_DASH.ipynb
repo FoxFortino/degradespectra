{
 "cells": [
  {
   "cell_type": "code",
   "execution_count": 1,
   "id": "662b199d-989c-4e25-8907-69008e5bea5b",
   "metadata": {},
   "outputs": [],
   "source": [
    "codedir = \"/Users/admin/UDel/FASTLab/Summer2021_Research/SESNspectraPCA/code\"\n",
    "imagedir = \"/Users/admin/UDel/FASTLab/Summer2021_Research/imagedir\"\n",
    "datadir = (\"/Users/admin/Udel/FASTLab/Summer2021_Research/\"\n",
    "           \"SESNspectraPCA/Data/DataProducts\")"
   ]
  },
  {
   "cell_type": "code",
   "execution_count": 2,
   "id": "cab9676b-f7b3-41b6-b5e0-f3dcaddb68ee",
   "metadata": {},
   "outputs": [],
   "source": [
    "import sys  \n",
    "sys.path.insert(0, codedir)"
   ]
  },
  {
   "cell_type": "code",
   "execution_count": 51,
   "id": "141da8f7-76d6-427e-b727-924e22b26ba7",
   "metadata": {},
   "outputs": [],
   "source": [
    "import os\n",
    "import glob\n",
    "\n",
    "# import sklearn\n",
    "# from sklearn.svm import LinearSVC\n",
    "# from sklearn.model_selection import train_test_split\n",
    "\n",
    "import numpy as np\n",
    "import pandas as pd\n",
    "import scipy as sp\n",
    "import matplotlib.pyplot as plt\n",
    "# import astropy.units as u\n",
    "# import astropy.constants as c\n",
    "# from scipy.integrate import trapezoid\n",
    "# from astropy.convolution import convolve_fft, convolve, Gaussian1DKernel\n",
    "\n",
    "import SNIDsn\n",
    "import SNIDdataset as snid\n",
    "# import SNePCA\n",
    "\n",
    "# import degrade\n",
    "# import kernels\n",
    "# import plotutils\n",
    "# import utils\n",
    "# import classify_PCASVC as cps\n",
    "\n",
    "import astrodash as ad\n",
    "\n",
    "# from collections import OrderedDict\n",
    "\n",
    "from importlib import reload"
   ]
  },
  {
   "cell_type": "code",
   "execution_count": 8,
   "id": "3cb86090-2c83-4df5-b4bb-8a3ac0ad7bc9",
   "metadata": {},
   "outputs": [
    {
     "name": "stdout",
     "output_type": "stream",
     "text": [
      "\u001b[1m\u001b[34mFig5\u001b[m\u001b[m/             dataset0.pickle   dataset15.pickle  \u001b[1m\u001b[34msvm_score_tables\u001b[m\u001b[m/\n",
      "README.md         dataset10.pickle  dataset5.pickle\n"
     ]
    }
   ],
   "source": [
    "ls ../Data/DataProducts/dataset0.pickle"
   ]
  },
  {
   "cell_type": "code",
   "execution_count": 20,
   "id": "cd41af6d-729a-469d-9caa-960e227e5f12",
   "metadata": {},
   "outputs": [],
   "source": [
    "dataset0 = snid.loadPickle('../Data/DataProducts/dataset0.pickle')\n",
    "dataset5 = snid.loadPickle('../Data/DataProducts/dataset5.pickle')\n",
    "dataset10 = snid.loadPickle('../Data/DataProducts/dataset10.pickle')\n",
    "dataset15 = snid.loadPickle('../Data/DataProducts/dataset15.pickle')"
   ]
  },
  {
   "cell_type": "code",
   "execution_count": 111,
   "id": "8ad40caa-d762-4928-9481-67e3518c4da6",
   "metadata": {},
   "outputs": [
    {
     "data": {
      "text/plain": [
       "{'Nspec': 9,\n",
       " 'Nbins': 1024,\n",
       " 'WvlStart': 2500.0,\n",
       " 'WvlEnd': 10000.0,\n",
       " 'SplineKnots': 11,\n",
       " 'SN': 'sn1998dt',\n",
       " 'dm15': -9.99,\n",
       " 'TypeStr': 'Ib-norm',\n",
       " 'TypeInt': 2,\n",
       " 'SubTypeInt': 2}"
      ]
     },
     "execution_count": 111,
     "metadata": {},
     "output_type": "execute_result"
    }
   ],
   "source": [
    "dataset0[\"sn1998dt\"].header"
   ]
  },
  {
   "cell_type": "code",
   "execution_count": 115,
   "id": "0f868697-0631-4a3c-8383-86b5dacf221e",
   "metadata": {},
   "outputs": [
    {
     "data": {
      "text/plain": [
       "array([13.6])"
      ]
     },
     "execution_count": 115,
     "metadata": {},
     "output_type": "execute_result"
    }
   ],
   "source": [
    "dataset15[\"sn1998dt\"].phases"
   ]
  },
  {
   "cell_type": "code",
   "execution_count": 89,
   "id": "1b270845-dc21-424f-b954-ebeccdda07b2",
   "metadata": {},
   "outputs": [
    {
     "data": {
      "text/plain": [
       "array([1.8])"
      ]
     },
     "execution_count": 89,
     "metadata": {},
     "output_type": "execute_result"
    }
   ],
   "source": [
    "dataset0[list(dataset0.keys())[0]].phases"
   ]
  },
  {
   "cell_type": "code",
   "execution_count": 96,
   "id": "beee1562-d1e6-414f-b5a3-7b942b4e21ff",
   "metadata": {},
   "outputs": [
    {
     "name": "stdout",
     "output_type": "stream",
     "text": [
      "3\n",
      "8\n",
      "6\n",
      "9\n",
      "11\n",
      "3\n",
      "24\n",
      "4\n",
      "18\n",
      "5\n",
      "16\n",
      "10\n",
      "12\n",
      "28\n",
      "8\n",
      "9\n",
      "48\n",
      "8\n",
      "16\n",
      "26\n",
      "73\n",
      "12\n",
      "14\n",
      "7\n",
      "7\n",
      "26\n",
      "12\n",
      "11\n",
      "31\n",
      "15\n",
      "8\n",
      "17\n",
      "37\n",
      "8\n",
      "9\n",
      "38\n",
      "27\n",
      "1\n",
      "13\n",
      "22\n",
      "25\n",
      "14\n",
      "19\n",
      "28\n",
      "26\n",
      "34\n",
      "11\n",
      "25\n",
      "26\n",
      "5\n",
      "11\n",
      "2\n",
      "21\n",
      "16\n"
     ]
    }
   ],
   "source": [
    "for key, value in dataset15.items():\n",
    "    print(value.header[\"Nspec\"])"
   ]
  },
  {
   "cell_type": "code",
   "execution_count": 21,
   "id": "4e973d36-2c2d-4ba8-a74f-b2d81fc2bb7c",
   "metadata": {},
   "outputs": [],
   "source": [
    "SNlist = []\n",
    "SNlist.extend(snid.getDiagnostics(dataset0)[0])\n",
    "SNlist.extend(snid.getDiagnostics(dataset5)[0])\n",
    "SNlist.extend(snid.getDiagnostics(dataset10)[0])\n",
    "SNlist.extend(snid.getDiagnostics(dataset15)[0])"
   ]
  },
  {
   "cell_type": "code",
   "execution_count": 27,
   "id": "aab4e82d-8b8c-4603-a526-9aca5bee58f6",
   "metadata": {},
   "outputs": [
    {
     "data": {
      "text/plain": [
       "((217,),\n",
       " array(['sn1998dt', 'sn1999dn', 'sn1999ex', 'sn2004gq', 'sn2005bf',\n",
       "        'sn2005hg', 'sn2007ag', 'sn2007C', 'sn2007kj', 'sn2007uy',\n",
       "        'sn2007Y', 'sn2008D', 'sn2009er', 'sn2009jf', 'sn2012P',\n",
       "        'sn2013df', '16gkg', '11hs', 'sn1993J', 'sn1996cb', 'sn1998fa',\n",
       "        'sn2000H', 'sn2004ff', 'sn2006el', 'sn2008bo', 'sn2009mg',\n",
       "        'sn2011dh', 'sn2011ei', 'sn2011fu', 'LSQ14efd', '13ge', '15dtg',\n",
       "        'sn1994I', 'sn2004aw', 'sn2004fe', 'sn2005az', 'sn2005ek',\n",
       "        'sn2005kl', 'sn2005mf', 'sn2007gr', 'sn2011bm', 'sn2013dk',\n",
       "        '16coi', 'sn1997ef', 'sn1998bw', 'sn2002ap', 'sn2003jd',\n",
       "        'sn2003lw', 'sn2006aj', 'sn2007ru', 'sn2009bb', 'sn2010bh',\n",
       "        'sn2012ap', 'sn2012bz', 'sn2013dx', 'sn1998dt', 'sn1999dn',\n",
       "        'sn1999ex', 'sn2005bf', 'sn2006ep', 'sn2007ag', 'sn2007C',\n",
       "        'sn2007kj', 'sn2007Y', 'sn2008D', 'sn2009er', 'sn2009iz',\n",
       "        'sn2009jf', 'sn2012P', 'sn2013df', '16gkg', '10as', '11hs',\n",
       "        'sn1993J', 'sn1996cb', 'sn2000H', 'sn2006el', 'sn2006T',\n",
       "        'sn2008ax', 'sn2011dh', 'sn2011ei', 'sn2011fu', '13ge', '15dtg',\n",
       "        'sn1990B', 'sn1994I', 'sn2004aw', 'sn2004fe', 'sn2005az',\n",
       "        'sn2005ek', 'sn2005mf', 'sn2007gr', 'sn2011bm', '16coi',\n",
       "        'sn1998bw', 'sn2002ap', 'sn2003dh', 'sn2003jd', 'sn2003lw',\n",
       "        'sn2006aj', 'sn2007bg', 'sn2007ru', 'sn2009bb', 'sn2010bh',\n",
       "        'sn2012ap', 'sn2012bz', 'sn2013dx', 'sn1983N', 'sn1990I',\n",
       "        'sn1990U', 'sn1998dt', 'sn1999dn', 'sn1999ex', 'sn2004dk',\n",
       "        'sn2004gv', 'sn2005bf', 'sn2005hg', 'sn2006ep', 'sn2007ag',\n",
       "        'sn2007C', 'sn2007uy', 'sn2007Y', 'sn2008D', 'sn2009iz',\n",
       "        'sn2009jf', 'sn2012P', 'sn2013df', '16gkg', '10as', '11hs',\n",
       "        'sn1993J', 'sn1996cb', 'sn2003bg', 'sn2006el', 'sn2006T',\n",
       "        'sn2008ax', 'sn2009mg', 'sn2011dh', 'sn2011ei', '13ge', '15dtg',\n",
       "        '17ein', 'sn1990B', 'sn1994I', 'sn2004aw', 'sn2004fe', 'sn2004ge',\n",
       "        'sn2005ek', 'sn2005mf', 'sn2007gr', '16coi', 'sn1997ef',\n",
       "        'sn1998bw', 'sn2002ap', 'sn2003dh', 'sn2003lw', 'sn2006aj',\n",
       "        'sn2007bg', 'sn2007ru', 'sn2009bb', 'sn2010bh', 'sn2012ap',\n",
       "        'sn2013dx', 'sn1983N', 'sn1990I', 'sn1990U', 'sn1998dt',\n",
       "        'sn1999dn', 'sn2004dk', 'sn2004gq', 'sn2004gv', 'sn2005hg',\n",
       "        'sn2006ep', 'sn2007C', 'sn2007uy', 'sn2007Y', 'sn2008D',\n",
       "        'sn2009er', 'sn2009iz', 'sn2009jf', 'sn2013df', '16gkg', '10as',\n",
       "        'sn1993J', 'sn2000H', 'sn2003bg', 'sn2006el', 'sn2006T',\n",
       "        'sn2008ax', 'sn2008bo', 'sn2009mg', 'sn2011dh', 'sn2011ei',\n",
       "        'sn2011fu', 'LSQ14efd', '13ge', '15dtg', '17ein', 'sn1994I',\n",
       "        'sn2004aw', 'sn2004ge', 'sn2004gt', 'sn2005az', 'sn2007gr',\n",
       "        'sn2011bm', '16coi', 'sn1997ef', 'sn1998bw', 'sn2002ap',\n",
       "        'sn2003dh', 'sn2003jd', 'sn2006aj', 'sn2007bg', 'sn2009bb',\n",
       "        'sn2010ay', 'sn2010bh', 'sn2013dx'], dtype='<U8'))"
      ]
     },
     "execution_count": 27,
     "metadata": {},
     "output_type": "execute_result"
    }
   ],
   "source": [
    "SNlist = np.array(SNlist)\n",
    "SNlist.shape, SNlist"
   ]
  },
  {
   "cell_type": "code",
   "execution_count": 29,
   "id": "779b75ae-8d00-4bf7-86ab-a70188f6ed96",
   "metadata": {},
   "outputs": [
    {
     "data": {
      "text/plain": [
       "((73,),\n",
       " array(['10as', '11hs', '13ge', '15dtg', '16coi', '16gkg', '17ein',\n",
       "        'LSQ14efd', 'sn1983N', 'sn1990B', 'sn1990I', 'sn1990U', 'sn1993J',\n",
       "        'sn1994I', 'sn1996cb', 'sn1997ef', 'sn1998bw', 'sn1998dt',\n",
       "        'sn1998fa', 'sn1999dn', 'sn1999ex', 'sn2000H', 'sn2002ap',\n",
       "        'sn2003bg', 'sn2003dh', 'sn2003jd', 'sn2003lw', 'sn2004aw',\n",
       "        'sn2004dk', 'sn2004fe', 'sn2004ff', 'sn2004ge', 'sn2004gq',\n",
       "        'sn2004gt', 'sn2004gv', 'sn2005az', 'sn2005bf', 'sn2005ek',\n",
       "        'sn2005hg', 'sn2005kl', 'sn2005mf', 'sn2006T', 'sn2006aj',\n",
       "        'sn2006el', 'sn2006ep', 'sn2007C', 'sn2007Y', 'sn2007ag',\n",
       "        'sn2007bg', 'sn2007gr', 'sn2007kj', 'sn2007ru', 'sn2007uy',\n",
       "        'sn2008D', 'sn2008ax', 'sn2008bo', 'sn2009bb', 'sn2009er',\n",
       "        'sn2009iz', 'sn2009jf', 'sn2009mg', 'sn2010ay', 'sn2010bh',\n",
       "        'sn2011bm', 'sn2011dh', 'sn2011ei', 'sn2011fu', 'sn2012P',\n",
       "        'sn2012ap', 'sn2012bz', 'sn2013df', 'sn2013dk', 'sn2013dx'],\n",
       "       dtype='<U8'))"
      ]
     },
     "execution_count": 29,
     "metadata": {},
     "output_type": "execute_result"
    }
   ],
   "source": [
    "np.unique(SNlist).shape, np.unique(SNlist)"
   ]
  },
  {
   "cell_type": "code",
   "execution_count": 74,
   "id": "dd819202-99b4-4a63-8ef5-bd7510921b7b",
   "metadata": {},
   "outputs": [],
   "source": [
    "snidsn = SNIDsn.SNIDsn()\n",
    "snidsn.loadSNIDlnw('/Users/admin/UDel/FASTLab/astrodash/templates/training_set/sn1998dt.lnw')"
   ]
  },
  {
   "cell_type": "code",
   "execution_count": 108,
   "id": "6d347c6c-900f-4611-af0b-dd7f9146a9ac",
   "metadata": {},
   "outputs": [
    {
     "data": {
      "text/plain": [
       "array([ 1.8,  2.8,  5.7,  8.7,  9.7, 12.6, 13.6, 18.5, 33.8])"
      ]
     },
     "execution_count": 108,
     "metadata": {},
     "output_type": "execute_result"
    }
   ],
   "source": [
    "snidsn.phases"
   ]
  },
  {
   "cell_type": "code",
   "execution_count": 52,
   "id": "8133d73a-db21-4269-8d71-fded8f399f33",
   "metadata": {},
   "outputs": [],
   "source": [
    "dash_files = glob.glob(\"/Users/admin/UDel/FASTLab/\"\n",
    "                       \"astrodash/templates/training_set/*lnw\")\n",
    "\n",
    "dash_SNlist = []\n",
    "for file in dash_files:\n",
    "    snidsn = SNIDsn.SNIDsn()\n",
    "    snidsn.loadSNIDlnw(file)\n",
    "    dash_SNlist.append(snidsn.header[\"SN\"])"
   ]
  },
  {
   "cell_type": "code",
   "execution_count": null,
   "id": "362361fe-be1c-42b9-a6a8-72c808844669",
   "metadata": {},
   "outputs": [],
   "source": []
  },
  {
   "cell_type": "code",
   "execution_count": 53,
   "id": "23a3f86e-00d3-4bf9-a122-3b461e9805cd",
   "metadata": {},
   "outputs": [
    {
     "data": {
      "text/plain": [
       "514"
      ]
     },
     "execution_count": 53,
     "metadata": {},
     "output_type": "execute_result"
    }
   ],
   "source": [
    "len(dash_files)"
   ]
  },
  {
   "cell_type": "code",
   "execution_count": 54,
   "id": "ba47f799-7b86-4009-9c2e-bc99136b077e",
   "metadata": {},
   "outputs": [
    {
     "data": {
      "text/plain": [
       "514"
      ]
     },
     "execution_count": 54,
     "metadata": {},
     "output_type": "execute_result"
    }
   ],
   "source": [
    "len(dash_SNlist)"
   ]
  },
  {
   "cell_type": "code",
   "execution_count": 56,
   "id": "4c36e74a-7ac6-4147-9925-1522d372fc9e",
   "metadata": {},
   "outputs": [
    {
     "name": "stdout",
     "output_type": "stream",
     "text": [
      "SNID SN 10as: \n",
      "SNID SN 11hs: \n",
      "SNID SN 13ge: \n",
      "SNID SN 15dtg: \n",
      "SNID SN 16coi: \n",
      "SNID SN 16gkg: \n",
      "SNID SN 17ein: \n",
      "SNID SN LSQ14efd: \n",
      "SNID SN sn1983N: in DASH training set.\n",
      "SNID SN sn1990B: in DASH training set.\n",
      "SNID SN sn1990I: in DASH training set.\n",
      "SNID SN sn1990U: in DASH training set.\n",
      "SNID SN sn1993J: in DASH training set.\n",
      "SNID SN sn1994I: in DASH training set.\n",
      "SNID SN sn1996cb: in DASH training set.\n",
      "SNID SN sn1997ef: in DASH training set.\n",
      "SNID SN sn1998bw: in DASH training set.\n",
      "SNID SN sn1998dt: in DASH training set.\n",
      "SNID SN sn1998fa: in DASH training set.\n",
      "SNID SN sn1999dn: \n",
      "SNID SN sn1999ex: in DASH training set.\n",
      "SNID SN sn2000H: in DASH training set.\n",
      "SNID SN sn2002ap: in DASH training set.\n",
      "SNID SN sn2003bg: in DASH training set.\n",
      "SNID SN sn2003dh: in DASH training set.\n",
      "SNID SN sn2003jd: in DASH training set.\n",
      "SNID SN sn2003lw: in DASH training set.\n",
      "SNID SN sn2004aw: in DASH training set.\n",
      "SNID SN sn2004dk: in DASH training set.\n",
      "SNID SN sn2004fe: in DASH training set.\n",
      "SNID SN sn2004ff: in DASH training set.\n",
      "SNID SN sn2004ge: in DASH training set.\n",
      "SNID SN sn2004gq: in DASH training set.\n",
      "SNID SN sn2004gt: in DASH training set.\n",
      "SNID SN sn2004gv: in DASH training set.\n",
      "SNID SN sn2005az: in DASH training set.\n",
      "SNID SN sn2005bf: in DASH training set.\n",
      "SNID SN sn2005ek: in DASH training set.\n",
      "SNID SN sn2005hg: in DASH training set.\n",
      "SNID SN sn2005kl: in DASH training set.\n",
      "SNID SN sn2005mf: in DASH training set.\n",
      "SNID SN sn2006T: in DASH training set.\n",
      "SNID SN sn2006aj: in DASH training set.\n",
      "SNID SN sn2006el: in DASH training set.\n",
      "SNID SN sn2006ep: in DASH training set.\n",
      "SNID SN sn2007C: in DASH training set.\n",
      "SNID SN sn2007Y: in DASH training set.\n",
      "SNID SN sn2007ag: in DASH training set.\n",
      "SNID SN sn2007bg: in DASH training set.\n",
      "SNID SN sn2007gr: in DASH training set.\n",
      "SNID SN sn2007kj: in DASH training set.\n",
      "SNID SN sn2007ru: in DASH training set.\n",
      "SNID SN sn2007uy: in DASH training set.\n",
      "SNID SN sn2008D: in DASH training set.\n",
      "SNID SN sn2008ax: in DASH training set.\n",
      "SNID SN sn2008bo: in DASH training set.\n",
      "SNID SN sn2009bb: in DASH training set.\n",
      "SNID SN sn2009er: in DASH training set.\n",
      "SNID SN sn2009iz: in DASH training set.\n",
      "SNID SN sn2009jf: in DASH training set.\n",
      "SNID SN sn2009mg: in DASH training set.\n",
      "SNID SN sn2010ay: in DASH training set.\n",
      "SNID SN sn2010bh: \n",
      "SNID SN sn2011bm: in DASH training set.\n",
      "SNID SN sn2011dh: in DASH training set.\n",
      "SNID SN sn2011ei: in DASH training set.\n",
      "SNID SN sn2011fu: in DASH training set.\n",
      "SNID SN sn2012P: \n",
      "SNID SN sn2012ap: in DASH training set.\n",
      "SNID SN sn2012bz: in DASH training set.\n",
      "SNID SN sn2013df: \n",
      "SNID SN sn2013dk: in DASH training set.\n",
      "SNID SN sn2013dx: in DASH training set.\n"
     ]
    }
   ],
   "source": [
    "for SN in np.unique(SNlist):\n",
    "    print(f\"SNID SN {SN}: \", end=\"\")\n",
    "    if SN in dash_SNlist:\n",
    "        print(\"in DASH training set.\")\n",
    "    else:\n",
    "        print(\"\")"
   ]
  },
  {
   "cell_type": "code",
   "execution_count": null,
   "id": "0c265f28-5a73-4ee8-a2be-403717060702",
   "metadata": {},
   "outputs": [],
   "source": []
  }
 ],
 "metadata": {
  "kernelspec": {
   "display_name": "Python 3 (ipykernel)",
   "language": "python",
   "name": "python3"
  },
  "language_info": {
   "codemirror_mode": {
    "name": "ipython",
    "version": 3
   },
   "file_extension": ".py",
   "mimetype": "text/x-python",
   "name": "python",
   "nbconvert_exporter": "python",
   "pygments_lexer": "ipython3",
   "version": "3.9.7"
  }
 },
 "nbformat": 4,
 "nbformat_minor": 5
}
