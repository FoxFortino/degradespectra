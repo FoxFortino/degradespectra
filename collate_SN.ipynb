{
 "cells": [
  {
   "cell_type": "code",
   "execution_count": 1,
   "id": "ed2ba255-0ac3-4cf3-a818-738b6f2a5551",
   "metadata": {},
   "outputs": [
    {
     "name": "stdout",
     "output_type": "stream",
     "text": [
      "WARNING:tensorflow:From /Users/admin/anaconda3/envs/fox/lib/python3.9/site-packages/tensorflow-2.7.0rc1-py3.9-macosx-10.9-x86_64.egg/tensorflow/python/compat/v2_compat.py:111: disable_resource_variables (from tensorflow.python.ops.variable_scope) is deprecated and will be removed in a future version.\n",
      "Instructions for updating:\n",
      "non-resource variables are not supported in the long term\n"
     ]
    }
   ],
   "source": [
    "codedir = \"/Users/admin/UDel/FASTLab/Summer2021_Research/SESNspectraPCA/code\"\n",
    "imagedir = \"/Users/admin/UDel/FASTLab/Summer2021_Research/imagedir\"\n",
    "datadir = (\"/Users/admin/Udel/FASTLab/Summer2021_Research/\"\n",
    "           \"SESNspectraPCA/Data/DataProducts\")\n",
    "\n",
    "import sys  \n",
    "sys.path.insert(0, codedir)\n",
    "\n",
    "import os\n",
    "import glob\n",
    "\n",
    "# import sklearn\n",
    "# from sklearn.svm import LinearSVC\n",
    "# from sklearn.model_selection import train_test_split\n",
    "\n",
    "import numpy as np\n",
    "import pandas as pd\n",
    "import scipy as sp\n",
    "import matplotlib.pyplot as plt\n",
    "# import astropy.units as u\n",
    "# import astropy.constants as c\n",
    "# from scipy.integrate import trapezoid\n",
    "# from astropy.convolution import convolve_fft, convolve, Gaussian1DKernel\n",
    "\n",
    "import SNIDsn\n",
    "import SNIDdataset as snid\n",
    "# import SNePCA\n",
    "\n",
    "# import degrade\n",
    "# import kernels\n",
    "# import plotutils\n",
    "# import utils\n",
    "# import classify_PCASVC as cps\n",
    "\n",
    "import astrodash as ad\n",
    "\n",
    "# from collections import OrderedDict\n",
    "\n",
    "from importlib import reload"
   ]
  },
  {
   "cell_type": "markdown",
   "id": "4858f99f-abf7-4bc9-88b9-d68a3d4edd94",
   "metadata": {},
   "source": [
    "# Get unique list of SN from SNID and DASH datasets."
   ]
  },
  {
   "cell_type": "code",
   "execution_count": 31,
   "id": "858abfdf-bcef-4e6b-af53-a2ac36d9be86",
   "metadata": {},
   "outputs": [],
   "source": [
    "dataset0 = snid.loadPickle('../Data/DataProducts/dataset0.pickle')\n",
    "dataset5 = snid.loadPickle('../Data/DataProducts/dataset5.pickle')\n",
    "dataset10 = snid.loadPickle('../Data/DataProducts/dataset10.pickle')\n",
    "dataset15 = snid.loadPickle('../Data/DataProducts/dataset15.pickle')\n",
    "\n",
    "SNID_SNlist = []\n",
    "SNID_SNlist.extend(snid.getDiagnostics(dataset0)[0])\n",
    "SNID_SNlist.extend(snid.getDiagnostics(dataset5)[0])\n",
    "SNID_SNlist.extend(snid.getDiagnostics(dataset10)[0])\n",
    "SNID_SNlist.extend(snid.getDiagnostics(dataset15)[0])\n",
    "\n",
    "dash_files = glob.glob(\"/Users/admin/UDel/FASTLab/\"\n",
    "                       \"astrodash/templates/training_set/*lnw\")\n",
    "DASH_SNlist = []\n",
    "for file in dash_files:\n",
    "    snidsn = SNIDsn.SNIDsn()\n",
    "    snidsn.loadSNIDlnw(file)\n",
    "    DASH_SNlist.append(snidsn.header[\"SN\"])\n",
    "    \n",
    "SNlist = np.unique(np.append(SNID_SNlist, DASH_SNlist))"
   ]
  },
  {
   "cell_type": "markdown",
   "id": "13fd6030-e5d7-4ac2-8513-d3097e892acb",
   "metadata": {},
   "source": [
    "# Check which SN phases are present in SNID but not in DASH"
   ]
  },
  {
   "cell_type": "code",
   "execution_count": 35,
   "id": "6ac0fcd1-8113-4209-b94e-0623eb24f7a5",
   "metadata": {},
   "outputs": [
    {
     "name": "stdout",
     "output_type": "stream",
     "text": [
      "NEW SN: 10as    \n",
      "NEW SN: 11hs    \n",
      "NEW SN: 13ge    \n",
      "NEW SN: 15dtg   \n",
      "NEW SN: 16coi   \n",
      "NEW SN: 16gkg   \n",
      "NEW SN: 17ein   \n",
      "NEW SN: LSQ14efd\n",
      "NEW SPECTRA: sn1996cb -0.9\n",
      "NEW SPECTRA: sn1996cb 5.1\n",
      "NEW SPECTRA: sn1996cb 6.1\n",
      "NEW SN: sn1999dn\n",
      "NEW SPECTRA: sn2003jd 0.2\n",
      "NEW SPECTRA: sn2003jd 1.2\n",
      "NEW SPECTRA: sn2003jd 18.8\n",
      "NEW SPECTRA: sn2004gt 16.4\n",
      "NEW SPECTRA: sn2004gv 13.0\n",
      "NEW SPECTRA: sn2004gv 15.0\n",
      "NEW SPECTRA: sn2005hg -0.9\n",
      "NEW SPECTRA: sn2005hg 11.8\n",
      "NEW SPECTRA: sn2005hg 15.8\n",
      "NEW SPECTRA: sn2005mf -1.1\n",
      "NEW SPECTRA: sn2005mf 4.8\n",
      "NEW SPECTRA: sn2005mf 7.7\n",
      "NEW SPECTRA: sn2006aj 9.6\n",
      "NEW SPECTRA: sn2006aj 10.6\n",
      "NEW SPECTRA: sn2006el -4.1\n",
      "NEW SPECTRA: sn2006el 9.6\n",
      "NEW SPECTRA: sn2006el 9.6\n",
      "NEW SPECTRA: sn2006el 15.5\n",
      "NEW SPECTRA: sn2006ep 7.7\n",
      "NEW SPECTRA: sn2006ep 9.7\n",
      "NEW SPECTRA: sn2006ep 11.6\n",
      "NEW SPECTRA: sn2007gr 0.0\n",
      "NEW SPECTRA: sn2007gr 5.0\n",
      "NEW SPECTRA: sn2007kj -1.0\n",
      "NEW SPECTRA: sn2007kj 3.9\n",
      "NEW SPECTRA: sn2007uy -3.3\n",
      "NEW SPECTRA: sn2007uy 12.6\n",
      "NEW SPECTRA: sn2007uy 12.6\n",
      "NEW SPECTRA: sn2008D  2.0\n",
      "NEW SPECTRA: sn2008D  5.0\n",
      "NEW SPECTRA: sn2008D  10.893\n",
      "NEW SPECTRA: sn2008D  14.2\n",
      "NEW SPECTRA: sn2008bo 15.7\n",
      "NEW SPECTRA: sn2009er 0.9\n",
      "NEW SPECTRA: sn2009er 2.8\n",
      "NEW SPECTRA: sn2009er 15.4\n",
      "NEW SPECTRA: sn2009iz 5.0\n",
      "NEW SPECTRA: sn2009iz 10.9\n",
      "NEW SPECTRA: sn2009iz 12.9\n",
      "NEW SN: sn2010bh\n",
      "NEW SN: sn2012P \n",
      "NEW SN: sn2013df\n",
      "42\n",
      "12\n"
     ]
    }
   ],
   "source": [
    "nNewSN = 0\n",
    "nNewSp = 0\n",
    "\n",
    "for sn in SNlist:\n",
    "    SNID_phases = []\n",
    "    try:\n",
    "        SNID_phases.extend(dataset0[sn].phases)\n",
    "    except Exception:\n",
    "        pass\n",
    "    \n",
    "    try:\n",
    "        SNID_phases.extend(dataset5[sn].phases)\n",
    "    except Exception:\n",
    "        pass\n",
    "    \n",
    "    try:\n",
    "        SNID_phases.extend(dataset10[sn].phases)\n",
    "    except Exception:\n",
    "        pass\n",
    "    \n",
    "    try:\n",
    "        SNID_phases.extend(dataset15[sn].phases)\n",
    "    except Exception:\n",
    "        pass\n",
    "    \n",
    "    if sn in DASH_SNlist:\n",
    "        snidsn = SNIDsn.SNIDsn()\n",
    "        try:\n",
    "            DASH_lnw = (\"/Users/admin/UDel/FASTLab/\"\n",
    "                    f\"astrodash/templates/training_set/{sn}.lnw\")\n",
    "            snidsn.loadSNIDlnw(DASH_lnw)\n",
    "        except FileNotFoundError:\n",
    "            DASH_lnw = (\"/Users/admin/UDel/FASTLab/\"\n",
    "                    f\"astrodash/templates/training_set/{sn}_bsnip.lnw\")\n",
    "            snidsn.loadSNIDlnw(DASH_lnw)\n",
    "        DASH_phases = snidsn.phases\n",
    "        \n",
    "        for phase in SNID_phases:\n",
    "            if phase not in DASH_phases:\n",
    "                print(f\"NEW SPECTRA: {sn:<8} {phase}\")\n",
    "                nNewSp += 1\n",
    "        \n",
    "    else:\n",
    "        print(f\"NEW SN: {sn:<8}\")\n",
    "        nNewSN += 1\n",
    "print(nNewSp)\n",
    "print(nNewSN)"
   ]
  },
  {
   "cell_type": "markdown",
   "id": "06aadc0c-a89c-4d74-acef-ce5fe028aa93",
   "metadata": {},
   "source": [
    "# Check if the new SNID spectra in the shared SN are duplicates.\n",
    "\n",
    "It is unclear if these are duplicates or not. The raw data sometimes looks similar but not the same. SNID data is preprocessed, this could be why? But why would the phases be slightly different? How could there be discrepencies in the recording of the phases if they are the same data?"
   ]
  },
  {
   "cell_type": "code",
   "execution_count": 115,
   "id": "8ebf34a0-bc9c-43ad-b2b0-5ac2ee4dcb1e",
   "metadata": {},
   "outputs": [],
   "source": [
    "sn = \"sn2003jd\"\n",
    "\n",
    "try:\n",
    "    DASH_lnw = (\"/Users/admin/UDel/FASTLab/\"\n",
    "            f\"astrodash/templates/training_set/{sn}.lnw\")\n",
    "    snidsn.loadSNIDlnw(DASH_lnw)\n",
    "except FileNotFoundError:\n",
    "    print(\"yeehaw\")\n",
    "    DASH_lnw = (\"/Users/admin/UDel/FASTLab/\"\n",
    "            f\"astrodash/templates/training_set/{sn}_bsnip.lnw\")\n",
    "    snidsn.loadSNIDlnw(DASH_lnw)\n",
    "DASH_phases = snidsn.phases\n",
    "\n",
    "\n",
    "SNID_phases = []\n",
    "try:\n",
    "    SNID_phases.extend(dataset0[sn].phases)\n",
    "except Exception:\n",
    "    pass\n",
    "\n",
    "try:\n",
    "    SNID_phases.extend(dataset5[sn].phases)\n",
    "except Exception:\n",
    "    pass\n",
    "\n",
    "try:\n",
    "    SNID_phases.extend(dataset10[sn].phases)\n",
    "except Exception:\n",
    "    pass\n",
    "\n",
    "try:\n",
    "    SNID_phases.extend(dataset15[sn].phases)\n",
    "except Exception:\n",
    "    pass"
   ]
  },
  {
   "cell_type": "code",
   "execution_count": 116,
   "id": "f9beee94-243a-4fd9-abcb-80edaea80e05",
   "metadata": {},
   "outputs": [
    {
     "data": {
      "text/plain": [
       "array([-3.600e+00, -2.600e+00, -1.600e+00, -6.000e-01,  4.000e-01,\n",
       "        1.840e+01,  1.940e+01,  2.040e+01,  2.140e+01,  2.240e+01,\n",
       "        2.340e+01,  2.640e+01,  2.740e+01,  3.340e+01,  4.640e+01,\n",
       "        4.740e+01,  4.840e+01,  4.940e+01,  4.940e+01,  5.140e+01,\n",
       "        5.440e+01,  5.540e+01,  6.040e+01,  7.340e+01,  4.044e+02])"
      ]
     },
     "execution_count": 116,
     "metadata": {},
     "output_type": "execute_result"
    }
   ],
   "source": [
    "DASH_phases"
   ]
  },
  {
   "cell_type": "code",
   "execution_count": 117,
   "id": "f5c4049f-1f8b-4ac3-97d8-6bfe3bc0871c",
   "metadata": {},
   "outputs": [
    {
     "data": {
      "text/plain": [
       "[0.2, 1.2, 18.8]"
      ]
     },
     "execution_count": 117,
     "metadata": {},
     "output_type": "execute_result"
    }
   ],
   "source": [
    "SNID_phases"
   ]
  },
  {
   "cell_type": "code",
   "execution_count": 118,
   "id": "05d3a0ea-dbfb-46ff-98e1-9cd03506bf40",
   "metadata": {},
   "outputs": [
    {
     "ename": "ValueError",
     "evalue": "no field of name Ph6.5",
     "output_type": "error",
     "traceback": [
      "\u001b[0;31m---------------------------------------------------------------------------\u001b[0m",
      "\u001b[0;31mValueError\u001b[0m                                Traceback (most recent call last)",
      "\u001b[0;32m<ipython-input-118-b947ca33effe>\u001b[0m in \u001b[0;36m<module>\u001b[0;34m\u001b[0m\n\u001b[0;32m----> 1\u001b[0;31m \u001b[0mDASH_flux\u001b[0m \u001b[0;34m=\u001b[0m \u001b[0msnidsn\u001b[0m\u001b[0;34m.\u001b[0m\u001b[0mdata\u001b[0m\u001b[0;34m[\u001b[0m\u001b[0;34mf\"Ph6.5\"\u001b[0m\u001b[0;34m]\u001b[0m\u001b[0;34m\u001b[0m\u001b[0;34m\u001b[0m\u001b[0m\n\u001b[0m\u001b[1;32m      2\u001b[0m \u001b[0mDASH_wvls\u001b[0m \u001b[0;34m=\u001b[0m \u001b[0msnidsn\u001b[0m\u001b[0;34m.\u001b[0m\u001b[0mwavelengths\u001b[0m\u001b[0;34m\u001b[0m\u001b[0;34m\u001b[0m\u001b[0m\n\u001b[1;32m      3\u001b[0m \u001b[0;34m\u001b[0m\u001b[0m\n\u001b[1;32m      4\u001b[0m \u001b[0mSNID_flux\u001b[0m \u001b[0;34m=\u001b[0m \u001b[0mdataset10\u001b[0m\u001b[0;34m[\u001b[0m\u001b[0msn\u001b[0m\u001b[0;34m]\u001b[0m\u001b[0;34m.\u001b[0m\u001b[0mdata\u001b[0m\u001b[0;34m[\u001b[0m\u001b[0;34mf\"Ph{SNID_phases[2]}\"\u001b[0m\u001b[0;34m]\u001b[0m\u001b[0;34m\u001b[0m\u001b[0;34m\u001b[0m\u001b[0m\n\u001b[1;32m      5\u001b[0m \u001b[0mSNID_wvls\u001b[0m \u001b[0;34m=\u001b[0m \u001b[0mdataset10\u001b[0m\u001b[0;34m[\u001b[0m\u001b[0msn\u001b[0m\u001b[0;34m]\u001b[0m\u001b[0;34m.\u001b[0m\u001b[0mwavelengths\u001b[0m\u001b[0;34m\u001b[0m\u001b[0;34m\u001b[0m\u001b[0m\n",
      "\u001b[0;31mValueError\u001b[0m: no field of name Ph6.5"
     ]
    }
   ],
   "source": [
    "DASH_flux = snidsn.data[f\"Ph6.5\"]\n",
    "DASH_wvls = snidsn.wavelengths\n",
    "\n",
    "SNID_flux = dataset10[sn].data[f\"Ph{SNID_phases[2]}\"]\n",
    "SNID_wvls = dataset10[sn].wavelengths\n",
    "\n",
    "plt.figure(figsize=(20, 10))\n",
    "plt.plot(DASH_wvls, DASH_flux, marker=\"o\", label=\"DASH\")\n",
    "plt.plot(SNID_wvls, SNID_flux, marker=\"o\", label=\"SNID\")\n",
    "plt.xlim((4000, 7000))\n",
    "plt.legend()\n",
    "plt.show()"
   ]
  },
  {
   "cell_type": "markdown",
   "id": "8e206133-8eb4-4180-88d9-bb8b59700106",
   "metadata": {},
   "source": [
    "# Try to combine new spectra and SN into DASH data"
   ]
  },
  {
   "cell_type": "code",
   "execution_count": 90,
   "id": "fb8c7cd7-d749-449e-a4fc-df9ca2ffe886",
   "metadata": {},
   "outputs": [
    {
     "data": {
      "text/plain": [
       "('Ph-3.6',\n",
       " 'Ph-2.6',\n",
       " 'Ph-1.6',\n",
       " 'Ph-0.6',\n",
       " 'Ph0.4',\n",
       " 'Ph18.4',\n",
       " 'Ph19.4',\n",
       " 'Ph20.4',\n",
       " 'Ph21.4',\n",
       " 'Ph22.4',\n",
       " 'Ph23.4',\n",
       " 'Ph26.4',\n",
       " 'Ph27.4',\n",
       " 'Ph33.4',\n",
       " 'Ph46.4',\n",
       " 'Ph47.4',\n",
       " 'Ph48.4',\n",
       " 'Ph49.4',\n",
       " 'Ph49.4v1',\n",
       " 'Ph51.4',\n",
       " 'Ph54.4',\n",
       " 'Ph55.4',\n",
       " 'Ph60.4',\n",
       " 'Ph73.4',\n",
       " 'Ph404.4')"
      ]
     },
     "execution_count": 90,
     "metadata": {},
     "output_type": "execute_result"
    }
   ],
   "source": [
    "snidsn.getSNCols()"
   ]
  },
  {
   "cell_type": "code",
   "execution_count": 95,
   "id": "df42ca58-2990-45cc-a27f-a02023776c79",
   "metadata": {},
   "outputs": [
    {
     "data": {
      "text/plain": [
       "[<matplotlib.lines.Line2D at 0x16d9411c0>,\n",
       " <matplotlib.lines.Line2D at 0x16d9411f0>,\n",
       " <matplotlib.lines.Line2D at 0x16d941310>,\n",
       " <matplotlib.lines.Line2D at 0x16d941430>,\n",
       " <matplotlib.lines.Line2D at 0x16d941550>,\n",
       " <matplotlib.lines.Line2D at 0x16d941670>,\n",
       " <matplotlib.lines.Line2D at 0x16d941790>,\n",
       " <matplotlib.lines.Line2D at 0x16d9418b0>,\n",
       " <matplotlib.lines.Line2D at 0x16d9419d0>,\n",
       " <matplotlib.lines.Line2D at 0x16d941af0>]"
      ]
     },
     "execution_count": 95,
     "metadata": {},
     "output_type": "execute_result"
    },
    {
     "data": {
      "image/png": "[encoded data removed]",
      "text/plain": [
       "<Figure size 432x288 with 1 Axes>"
      ]
     },
     "metadata": {
      "needs_background": "light"
     },
     "output_type": "display_data"
    }
   ],
   "source": [
    "plt.plot(dataset0[sn].continuum.T)"
   ]
  },
  {
   "cell_type": "code",
   "execution_count": null,
   "id": "e15b8f2a-1cad-46a5-9c85-c210eb1ec878",
   "metadata": {},
   "outputs": [],
   "source": []
  }
 ],
 "metadata": {
  "kernelspec": {
   "display_name": "Python 3 (ipykernel)",
   "language": "python",
   "name": "python3"
  },
  "language_info": {
   "codemirror_mode": {
    "name": "ipython",
    "version": 3
   },
   "file_extension": ".py",
   "mimetype": "text/x-python",
   "name": "python",
   "nbconvert_exporter": "python",
   "pygments_lexer": "ipython3",
   "version": "3.9.7"
  }
 },
 "nbformat": 4,
 "nbformat_minor": 5
}
