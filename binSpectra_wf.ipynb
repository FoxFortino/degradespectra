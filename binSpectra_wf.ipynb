{
 "cells": [
  {
   "cell_type": "code",
   "execution_count": 1,
   "id": "8872b27e-f180-487f-bfe8-752bbb5b0625",
   "metadata": {},
   "outputs": [],
   "source": [
    "import sys\n",
    "sys.path.insert(0, \"/Users/admin/UDel/FASTLab/Summer2021_Research/SESNspectraPCA/code\")"
   ]
  },
  {
   "cell_type": "code",
   "execution_count": 2,
   "id": "930bc7a2",
   "metadata": {},
   "outputs": [
    {
     "name": "stderr",
     "output_type": "stream",
     "text": [
      "/Users/admin/anaconda3/envs/fox/lib/python3.9/site-packages/pysynphot/locations.py:46: UserWarning:\n",
      "\n",
      "PYSYN_CDBS is undefined; functionality will be SEVERELY crippled.\n",
      "\n",
      "/Users/admin/anaconda3/envs/fox/lib/python3.9/site-packages/pysynphot/locations.py:345: UserWarning:\n",
      "\n",
      "Extinction files not found in extinction\n",
      "\n"
     ]
    }
   ],
   "source": [
    "import os\n",
    "\n",
    "import numpy as np\n",
    "import matplotlib.pyplot as plt\n",
    "import pandas\n",
    "import scipy\n",
    "import astropy.units as u\n",
    "import astropy.constants as c\n",
    "from astropy.convolution import convolve_fft, convolve, Gaussian1DKernel\n",
    "\n",
    "import SNIDsn\n",
    "import SNIDdataset as snid\n",
    "import SNePCA\n",
    "\n",
    "import binSpectra_wf as bs\n",
    "\n",
    "from pysynphot import observation\n",
    "from pysynphot import spectrum\n",
    "\n",
    "from importlib import reload\n",
    "\n",
    "imagedir = \"/Users/admin/UDel/FASTLab/Summer2021_Research/imagedir\"\n",
    "plt.style.use('~/GitHub/custom-matplotlib/custom.mplstyle')"
   ]
  },
  {
   "cell_type": "code",
   "execution_count": 82,
   "id": "56ef900b-bf5d-4593-87ea-72b0d05ee913",
   "metadata": {},
   "outputs": [],
   "source": [
    "reload(bs)\n",
    "\n",
    "dataset0 = snid.loadPickle('../Data/DataProducts/dataset0.pickle')\n",
    "dataset5 = snid.loadPickle('../Data/DataProducts/dataset5.pickle')\n",
    "dataset10 = snid.loadPickle('../Data/DataProducts/dataset10.pickle')\n",
    "dataset15 = snid.loadPickle('../Data/DataProducts/dataset15.pickle')\n",
    "spec = dataset0[\"sn1998dt\"]"
   ]
  },
  {
   "cell_type": "code",
   "execution_count": 83,
   "id": "8a864093-a80d-4276-af60-ee3fc59bf1db",
   "metadata": {},
   "outputs": [],
   "source": [
    "flux = spec.data.astype(float)\n",
    "wvl = spec.wavelengths.astype(float)\n",
    "R_true = bs.calc_avg_R(wvl)\n",
    "\n",
    "phase_key = list(spec.smooth_uncertainty.keys())[0]\n",
    "uncer = spec.smooth_uncertainty[phase_key].astype(float)"
   ]
  },
  {
   "cell_type": "code",
   "execution_count": 72,
   "id": "bdd9602e-bca8-4387-b17b-f48f938959dd",
   "metadata": {},
   "outputs": [
    {
     "data": {
      "text/plain": [
       "<SNIDsn.SNIDsn at 0x1409cbd00>"
      ]
     },
     "execution_count": 72,
     "metadata": {},
     "output_type": "execute_result"
    }
   ],
   "source": [
    "reload(bs)\n",
    "\n",
    "dataset0 = snid.loadPickle('../Data/DataProducts/dataset0.pickle')\n",
    "spec = dataset0[\"sn1998dt\"]\n",
    "\n",
    "def psf(wvl, mu, std, x=5, y=5, z=5):\n",
    "    return np.sin(wvl) * np.cos(mu*std) * np.log10(x * y * z)\n",
    "\n",
    "R = 700\n",
    "bs.degrade(spec, R, makegif=True, spectral_PSF=psf)\n",
    "\n",
    "\n",
    "# new_flux = spec.data.astype(float)\n",
    "# new_wvl = spec.wavelengths.astype(float)\n",
    "# phase_key = list(spec.smooth_uncertainty.keys())[0]\n",
    "# new_err = spec.smooth_uncertainty[phase_key].astype(float)\n",
    "# bs.plotSpec(new_wvl, new_flux, err=new_err)"
   ]
  },
  {
   "cell_type": "code",
   "execution_count": null,
   "id": "e81571cf-dc31-463a-896d-7adff642e658",
   "metadata": {},
   "outputs": [],
   "source": []
  }
 ],
 "metadata": {
  "kernelspec": {
   "display_name": "Python 3",
   "language": "python",
   "name": "python3"
  },
  "language_info": {
   "codemirror_mode": {
    "name": "ipython",
    "version": 3
   },
   "file_extension": ".py",
   "mimetype": "text/x-python",
   "name": "python",
   "nbconvert_exporter": "python",
   "pygments_lexer": "ipython3",
   "version": "3.9.2"
  }
 },
 "nbformat": 4,
 "nbformat_minor": 5
}
