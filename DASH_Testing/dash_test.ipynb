{
 "cells": [
  {
   "cell_type": "code",
   "execution_count": 1,
   "id": "7547321e-9785-46bb-9128-0fadd5c6fc25",
   "metadata": {},
   "outputs": [],
   "source": [
    "codedir = \"/Users/admin/UDel/FASTLab/Summer2021_Research/SESNspectraPCA/code\"\n",
    "imagedir = \"/Users/admin/UDel/FASTLab/Summer2021_Research/imagedir\"\n",
    "datadir = (\"/Users/admin/Udel/FASTLab/Summer2021_Research/\"\n",
    "           \"SESNspectraPCA/Data/DataProducts\")"
   ]
  },
  {
   "cell_type": "code",
   "execution_count": 2,
   "id": "49543cc8-feea-402e-b7aa-ec1e28d6d3cf",
   "metadata": {},
   "outputs": [],
   "source": [
    "import sys  \n",
    "sys.path.insert(0, codedir)"
   ]
  },
  {
   "cell_type": "code",
   "execution_count": 3,
   "id": "1656eaab-b207-48c7-af93-1768cb34368a",
   "metadata": {},
   "outputs": [
    {
     "name": "stdout",
     "output_type": "stream",
     "text": [
      "WARNING:tensorflow:From /Users/admin/anaconda3/envs/fox/lib/python3.9/site-packages/tensorflow-2.7.0rc1-py3.9-macosx-10.9-x86_64.egg/tensorflow/python/compat/v2_compat.py:111: disable_resource_variables (from tensorflow.python.ops.variable_scope) is deprecated and will be removed in a future version.\n",
      "Instructions for updating:\n",
      "non-resource variables are not supported in the long term\n"
     ]
    }
   ],
   "source": [
    "import os\n",
    "\n",
    "# import sklearn\n",
    "# from sklearn.svm import LinearSVC\n",
    "# from sklearn.model_selection import train_test_split\n",
    "\n",
    "import numpy as np\n",
    "import pandas as pd\n",
    "import scipy as sp\n",
    "import matplotlib.pyplot as plt\n",
    "# import astropy.units as u\n",
    "# import astropy.constants as c\n",
    "# from scipy.integrate import trapezoid\n",
    "# from astropy.convolution import convolve_fft, convolve, Gaussian1DKernel\n",
    "\n",
    "import SNIDsn\n",
    "import SNIDdataset as snid\n",
    "# import SNePCA\n",
    "\n",
    "# import degrade\n",
    "# import kernels\n",
    "# import plotutils\n",
    "# import utils\n",
    "# import classify_PCASVC as cps\n",
    "\n",
    "import astrodash as ad\n",
    "\n",
    "# from collections import OrderedDict\n",
    "\n",
    "from importlib import reload"
   ]
  },
  {
   "cell_type": "markdown",
   "id": "e42282e6-dcb6-444c-861d-15036b27d952",
   "metadata": {},
   "source": [
    "# Testing astrodash\n",
    "\n",
    "1. Check that the astrodash SN lnw files can be read in with SNIDsn\n",
    "\n",
    "They can.\n",
    "\n",
    "2. Find an unambiguous SESN from the SESNspectraPCA dataset\n",
    "\n",
    "3. Have DASH predict on it\n",
    "\n",
    "4. Have DASH predict on it when it is degraded."
   ]
  },
  {
   "cell_type": "markdown",
   "id": "d5c7fff8-2548-4948-bcf4-e74315a39a68",
   "metadata": {},
   "source": [
    "# 1 Check that SNIDsn can read in the astrodash lnw files\n",
    "\n",
    "It can, but the format of SNIDsn.data is odd and will take some time to figure the most elegant way to extract the data."
   ]
  },
  {
   "cell_type": "code",
   "execution_count": 4,
   "id": "7dab5004-92fb-4662-86be-29bd93a5a081",
   "metadata": {},
   "outputs": [],
   "source": [
    "# Check that SNIDsn can read in the astrodash lnw files\n",
    "lnw = (\"/Users/admin/UDel/FASTLab/astrodash/templates/training_set/\"\n",
    "       \"sn1991bg.lnw\")\n",
    "snidObj = SNIDsn.SNIDsn()\n",
    "snidObj.loadSNIDlnw(lnw)"
   ]
  },
  {
   "cell_type": "code",
   "execution_count": 5,
   "id": "ed270d06-4267-4fb0-ad61-69ecee1a81be",
   "metadata": {},
   "outputs": [
    {
     "data": {
      "text/plain": [
       "((1024,),\n",
       " (1024,),\n",
       " array([  0.9,   1.9,   2.1,   2.1,  14.1,  15.8,  18. ,  18.3,  19.6,\n",
       "         25. ,  28.9,  32.1,  33.1,  33.8,  45.7,  45.9,  49.9,  52.8,\n",
       "         52.9,  53.9,  87.5, 112.6, 116.6, 116.7, 142.4, 202.1]))"
      ]
     },
     "execution_count": 5,
     "metadata": {},
     "output_type": "execute_result"
    }
   ],
   "source": [
    "snidObj.data.shape, snidObj.wavelengths.shape, snidObj.phases"
   ]
  },
  {
   "cell_type": "code",
   "execution_count": 6,
   "id": "3bea5b8f-8256-45c8-81b5-facceaa31648",
   "metadata": {},
   "outputs": [
    {
     "data": {
      "text/plain": [
       "(26, 26)"
      ]
     },
     "execution_count": 6,
     "metadata": {},
     "output_type": "execute_result"
    }
   ],
   "source": [
    "len(snidObj.data.dtype), len(snidObj.data[0])"
   ]
  },
  {
   "cell_type": "code",
   "execution_count": 7,
   "id": "c9ddd421-26dd-455e-9d45-a69e906ec15f",
   "metadata": {},
   "outputs": [
    {
     "data": {
      "text/plain": [
       "0.9"
      ]
     },
     "execution_count": 7,
     "metadata": {},
     "output_type": "execute_result"
    }
   ],
   "source": [
    "snidObj.phases[0]"
   ]
  },
  {
   "cell_type": "code",
   "execution_count": 8,
   "id": "323ceab7-dc43-48ed-a1dd-90a807c3e747",
   "metadata": {},
   "outputs": [
    {
     "data": {
      "text/plain": [
       "array([  0.9,   1.9,   2.1,   2.1,  14.1,  15.8,  18. ,  18.3,  19.6,\n",
       "        25. ,  28.9,  32.1,  33.1,  33.8,  45.7,  45.9,  49.9,  52.8,\n",
       "        52.9,  53.9,  87.5, 112.6, 116.6, 116.7, 142.4, 202.1])"
      ]
     },
     "execution_count": 8,
     "metadata": {},
     "output_type": "execute_result"
    }
   ],
   "source": [
    "snidObj.phases"
   ]
  },
  {
   "cell_type": "code",
   "execution_count": 9,
   "id": "f998bff1-9834-48cc-9dbf-14f9dedec174",
   "metadata": {},
   "outputs": [
    {
     "data": {
      "text/plain": [
       "(array([0]),)"
      ]
     },
     "execution_count": 9,
     "metadata": {},
     "output_type": "execute_result"
    }
   ],
   "source": [
    "np.where(snidObj.phases == 0.9)"
   ]
  },
  {
   "cell_type": "code",
   "execution_count": 10,
   "id": "0e1ec1bf-41e2-47ee-a503-a4f308085e20",
   "metadata": {},
   "outputs": [
    {
     "data": {
      "text/plain": [
       "array([(0., 0., 0., 0., 0., 0., 0., 0., 0., 0., 0., 0., 0., 0., 0., 0., 0., 0., 0., 0., 0., 0., 0., 0., 0., 0.)],\n",
       "      dtype=[('Ph0.9', '<f4'), ('Ph1.9', '<f4'), ('Ph2.1', '<f4'), ('Ph2.1v1', '<f4'), ('Ph14.1', '<f4'), ('Ph15.8', '<f4'), ('Ph18.0', '<f4'), ('Ph18.3', '<f4'), ('Ph19.6', '<f4'), ('Ph25.0', '<f4'), ('Ph28.9', '<f4'), ('Ph32.1', '<f4'), ('Ph33.1', '<f4'), ('Ph33.8', '<f4'), ('Ph45.7', '<f4'), ('Ph45.9', '<f4'), ('Ph49.9', '<f4'), ('Ph52.8', '<f4'), ('Ph52.9', '<f4'), ('Ph53.9', '<f4'), ('Ph87.5', '<f4'), ('Ph112.6', '<f4'), ('Ph116.6', '<f4'), ('Ph116.7', '<f4'), ('Ph142.4', '<f4'), ('Ph202.1', '<f4')])"
      ]
     },
     "execution_count": 10,
     "metadata": {},
     "output_type": "execute_result"
    }
   ],
   "source": [
    "snidObj.data[np.where(snidObj.phases == 116.7)]"
   ]
  },
  {
   "cell_type": "code",
   "execution_count": 11,
   "id": "ce8b8a5a-d890-4041-bef9-a27b635d2479",
   "metadata": {},
   "outputs": [
    {
     "data": {
      "text/plain": [
       "array([(0., 0., 0., 0., 0., 0., 0., 0., 0., 0., 0.   , 0., 0., 0., 0., 0., 0., 0., 0., 0., 0., 0., 0., 0., 0., 0.),\n",
       "       (0., 0., 0., 0., 0., 0., 0., 0., 0., 0., 0.   , 0., 0., 0., 0., 0., 0., 0., 0., 0., 0., 0., 0., 0., 0., 0.),\n",
       "       (0., 0., 0., 0., 0., 0., 0., 0., 0., 0., 0.   , 0., 0., 0., 0., 0., 0., 0., 0., 0., 0., 0., 0., 0., 0., 0.),\n",
       "       ...,\n",
       "       (0., 0., 0., 0., 0., 0., 0., 0., 0., 0., 0.001, 0., 0., 0., 0., 0., 0., 0., 0., 0., 0., 0., 0., 0., 0., 0.),\n",
       "       (0., 0., 0., 0., 0., 0., 0., 0., 0., 0., 0.   , 0., 0., 0., 0., 0., 0., 0., 0., 0., 0., 0., 0., 0., 0., 0.),\n",
       "       (0., 0., 0., 0., 0., 0., 0., 0., 0., 0., 0.   , 0., 0., 0., 0., 0., 0., 0., 0., 0., 0., 0., 0., 0., 0., 0.)],\n",
       "      dtype=[('Ph0.9', '<f4'), ('Ph1.9', '<f4'), ('Ph2.1', '<f4'), ('Ph2.1v1', '<f4'), ('Ph14.1', '<f4'), ('Ph15.8', '<f4'), ('Ph18.0', '<f4'), ('Ph18.3', '<f4'), ('Ph19.6', '<f4'), ('Ph25.0', '<f4'), ('Ph28.9', '<f4'), ('Ph32.1', '<f4'), ('Ph33.1', '<f4'), ('Ph33.8', '<f4'), ('Ph45.7', '<f4'), ('Ph45.9', '<f4'), ('Ph49.9', '<f4'), ('Ph52.8', '<f4'), ('Ph52.9', '<f4'), ('Ph53.9', '<f4'), ('Ph87.5', '<f4'), ('Ph112.6', '<f4'), ('Ph116.6', '<f4'), ('Ph116.7', '<f4'), ('Ph142.4', '<f4'), ('Ph202.1', '<f4')])"
      ]
     },
     "execution_count": 11,
     "metadata": {},
     "output_type": "execute_result"
    }
   ],
   "source": [
    "# for d in snidObj.data:\n",
    "#     print(d)\n",
    "\n",
    "snidObj.data"
   ]
  },
  {
   "cell_type": "code",
   "execution_count": 12,
   "id": "a187d51f-af12-40f6-a20a-f051b509cc21",
   "metadata": {},
   "outputs": [
    {
     "data": {
      "text/plain": [
       "(1024,)"
      ]
     },
     "execution_count": 12,
     "metadata": {},
     "output_type": "execute_result"
    }
   ],
   "source": [
    "np.array(snidObj.data).shape"
   ]
  },
  {
   "cell_type": "code",
   "execution_count": 13,
   "id": "ad8c7784-2762-4a36-9969-3fa0c16727c2",
   "metadata": {},
   "outputs": [
    {
     "data": {
      "text/plain": [
       "[<matplotlib.lines.Line2D at 0x172048fd0>]"
      ]
     },
     "execution_count": 13,
     "metadata": {},
     "output_type": "execute_result"
    },
    {
     "data": {
      "image/png": "[encoded data removed]",
      "text/plain": [
       "<Figure size 432x288 with 1 Axes>"
      ]
     },
     "metadata": {
      "needs_background": "light"
     },
     "output_type": "display_data"
    }
   ],
   "source": [
    "snidObj.data[\"Ph0.9\"].shape\n",
    "plt.plot(snidObj.data[\"Ph0.9\"])"
   ]
  },
  {
   "cell_type": "markdown",
   "id": "f1c67213-203e-4f13-9d19-7aba5ff14ffd",
   "metadata": {},
   "source": [
    "# 2 Find an unambiguous SESN from the SESNspectraPCA dataset\n",
    "\n",
    "According to Williamson, Modjaz, & Bianco (2019) Figure 5, sn 11dh in Phase 0 seems to lie unambiguously in the IIb region of the SVM."
   ]
  },
  {
   "cell_type": "code",
   "execution_count": 14,
   "id": "d815ff4d-a564-44bd-98fa-1a5e940f50d9",
   "metadata": {},
   "outputs": [],
   "source": [
    "dataset0 = snid.loadPickle(os.path.join(datadir, \"dataset0.pickle\"))\n",
    "dataset5 = snid.loadPickle(os.path.join(datadir, \"dataset5.pickle\"))\n",
    "dataset10 = snid.loadPickle(os.path.join(datadir, \"dataset10.pickle\"))\n",
    "dataset15 = snid.loadPickle(os.path.join(datadir, \"dataset15.pickle\"))"
   ]
  },
  {
   "cell_type": "code",
   "execution_count": 15,
   "id": "62de34e7-7217-47d3-a36a-ce5d4dd66f7e",
   "metadata": {},
   "outputs": [],
   "source": [
    "sn0 = dataset0['sn2011dh']"
   ]
  },
  {
   "cell_type": "markdown",
   "id": "4aa6e66c-b4e6-4968-a2c6-96445e4c18cb",
   "metadata": {},
   "source": [
    "# 3 Run astrodash on the unambiguous SESN and see what it classfies it as"
   ]
  },
  {
   "cell_type": "code",
   "execution_count": 16,
   "id": "5b546205-3942-4147-bc5b-6d2ea6fc5293",
   "metadata": {},
   "outputs": [
    {
     "data": {
      "text/plain": [
       "<module 'astrodash' from '/Users/admin/UDel/FASTLab/astrodash/astrodash/__init__.py'>"
      ]
     },
     "execution_count": 16,
     "metadata": {},
     "output_type": "execute_result"
    }
   ],
   "source": [
    "reload(ad)"
   ]
  },
  {
   "cell_type": "code",
   "execution_count": 17,
   "id": "c9eeb7dd-714c-4d2b-9659-c992599ef8e7",
   "metadata": {},
   "outputs": [],
   "source": [
    "csv_dir = (\"/Users/admin/UDel/FASTLab/Summer2021_Research/SESNspectraPCA/\"\n",
    "           \"wfortino/csv_data\")"
   ]
  },
  {
   "cell_type": "code",
   "execution_count": 45,
   "id": "a10e94e4-e84a-4a45-babf-3fc7128309d0",
   "metadata": {},
   "outputs": [
    {
     "data": {
      "text/plain": [
       "(414, 2)"
      ]
     },
     "execution_count": 45,
     "metadata": {},
     "output_type": "execute_result"
    }
   ],
   "source": [
    "filename = os.path.join(csv_dir, \"dataset0\", \"sn1998dt.csv\")\n",
    "df = pd.read_csv(filename)\n",
    "df = df.drop(columns=\"err\")\n",
    "arr = df.values\n",
    "arr.shape\n",
    "# file = \"test.csv\"\n",
    "# df = pd.read_csv(\"test.csv\")\n",
    "# arr = df.values"
   ]
  },
  {
   "cell_type": "code",
   "execution_count": 46,
   "id": "8787619a-5651-4b73-8694-e815ae320094",
   "metadata": {},
   "outputs": [],
   "source": [
    "cf = ad.Classify([arr.T], knownZ=False)"
   ]
  },
  {
   "cell_type": "code",
   "execution_count": 47,
   "id": "04f5d7bf-d9ac-4561-b032-42aa1d594685",
   "metadata": {
    "tags": []
   },
   "outputs": [
    {
     "name": "stdout",
     "output_type": "stream",
     "text": [
      "INFO:tensorflow:Restoring parameters from /Users/admin/UDel/FASTLab/astrodash/astrodash/models_v06/models/agnosticZ/tensorflow_model.ckpt\n",
      "0.11594124003523776\n",
      "0.0\n",
      "0.12513153140029587\n",
      "0.004109287737583456\n",
      "0.1309138584948859\n",
      "0.0\n",
      "0.11708590854102274\n",
      "0.00823546172087708\n",
      "0.1425678158004835\n",
      "0.13672590238764193\n",
      "0.11708590854102274\n",
      "0.0\n",
      "0.0\n",
      "0.12513153140029587\n",
      "0.0\n",
      "0.0\n",
      "0.0010257426329625119\n",
      "0.13556110894586215\n",
      "0.09441403132444637\n",
      "0.01967007740639004\n",
      "[[['' 'Ic-norm' '18 to 22' '0.36617']\n",
      "  ['' 'Ib-norm' '6 to 10' '0.22619873']\n",
      "  ['' 'Ib-norm' '2 to 6' '0.1121815']\n",
      "  ['' 'Ib-norm' '-2 to 2' '0.08647527']\n",
      "  ['' 'Ib-norm' '10 to 14' '0.07368418']]]\n",
      "[('Ic-norm', '18 to 22', 0.3662)]\n"
     ]
    }
   ],
   "source": [
    "bestFits, redshifts, bestTypes, rejectionLabels, reliableFlags, redshiftErrs = cf.list_best_matches(n=5, saveFilename=None)\n",
    "print(bestFits)\n",
    "print(bestTypes)"
   ]
  },
  {
   "cell_type": "code",
   "execution_count": null,
   "id": "f6ea3d01-727f-4d2c-9181-eeb83ab3cc77",
   "metadata": {},
   "outputs": [],
   "source": []
  }
 ],
 "metadata": {
  "kernelspec": {
   "display_name": "Python 3",
   "language": "python",
   "name": "python3"
  },
  "language_info": {
   "codemirror_mode": {
    "name": "ipython",
    "version": 3
   },
   "file_extension": ".py",
   "mimetype": "text/x-python",
   "name": "python",
   "nbconvert_exporter": "python",
   "pygments_lexer": "ipython3",
   "version": "3.9.2"
  }
 },
 "nbformat": 4,
 "nbformat_minor": 5
}
