{
 "cells": [
  {
   "cell_type": "code",
   "execution_count": 1,
   "id": "f860a540-7c33-4c56-bf25-47712c0c33b1",
   "metadata": {},
   "outputs": [],
   "source": [
    "import sys\n",
    "import os\n",
    "import glob"
   ]
  },
  {
   "cell_type": "code",
   "execution_count": 2,
   "id": "f5155be6-0eb0-4e3e-8606-92d036be5dc4",
   "metadata": {},
   "outputs": [],
   "source": [
    "HOME_DIR = \"/home/2649/\"\n",
    "REPO_DIR = os.path.join(HOME_DIR, \"repos\")\n",
    "\n",
    "SESNspectraPCA_DIR = os.path.join(REPO_DIR, \"SESNspectraPCA\")\n",
    "SESNspectraLib_DIR = os.path.join(REPO_DIR, \"SESNspectraLib\")\n",
    "SESNtemple_DIR = os.path.join(REPO_DIR, \"SESNtemple\")\n",
    "dgspec_DIR = os.path.join(REPO_DIR, \"dgspec\")\n",
    "adfox_DIR = os.path.join(REPO_DIR, \"adfox\")\n",
    "\n",
    "adfox_CODE = os.path.join(adfox_DIR, \"astrodash\")\n",
    "SESNspectraPCA_CODE = os.path.join(SESNspectraPCA_DIR, \"code\")\n",
    "\n",
    "adfox_DATA = glob.glob(os.path.join(adfox_DIR, \"templates/training_set/*lnw\"))\n",
    "SESNtemple_DATA = glob.glob(os.path.join(SESNtemple_DIR,\n",
    "                                         \"SNIDtemplates/templates_*/*lnw\"))\n",
    "SESNtemple_DATA1 = glob.glob(os.path.join(SESNtemple_DIR,\n",
    "                                          \"templates_adjusted/*lnw\"))\n",
    "SESNtemple_DATA2 = glob.glob(os.path.join(SESNtemple_DIR,\n",
    "                                          \"templates_new/*lnw\"))\n",
    "SESNtemple_DATA3 = glob.glob(os.path.join(SESNtemple_DIR,\n",
    "                                          \"templates_williamson/*lnw\"))\n",
    "ALL_DATA = adfox_DATA + SESNtemple_DATA"
   ]
  },
  {
   "cell_type": "code",
   "execution_count": 3,
   "id": "9e5bd40a-433c-4b32-8f0f-fd320e92bf12",
   "metadata": {},
   "outputs": [],
   "source": [
    "LIBRARY_PATH = \"/lustre/lrspec/users/2649/degraded_spectra_library\""
   ]
  },
  {
   "cell_type": "code",
   "execution_count": 4,
   "id": "ef069042-76e9-490d-a704-d926cf0765ba",
   "metadata": {},
   "outputs": [],
   "source": [
    "sys.path.insert(0, SESNspectraPCA_DIR)\n",
    "sys.path.insert(0, SESNspectraLib_DIR)\n",
    "sys.path.insert(0, SESNtemple_DIR)\n",
    "sys.path.insert(0, dgspec_DIR)\n",
    "sys.path.insert(0, adfox_DIR)\n",
    "\n",
    "sys.path.insert(0, adfox_CODE)\n",
    "sys.path.insert(0, SESNspectraPCA_CODE)"
   ]
  },
  {
   "cell_type": "code",
   "execution_count": 5,
   "id": "0aee19e6-8152-4c25-b9e9-5241ca3870f8",
   "metadata": {},
   "outputs": [],
   "source": [
    "import shutil\n",
    "\n",
    "import numpy as np\n",
    "import matplotlib.pyplot as plt\n",
    "import seaborn as sb\n",
    "\n",
    "import SNIDsn\n",
    "import SNIDdataset as snid\n",
    "import SNePCA\n",
    "\n",
    "import degrade\n",
    "import kernels\n",
    "import plotutils\n",
    "import utils\n",
    "import classify_PCASVC as cps"
   ]
  },
  {
   "cell_type": "code",
   "execution_count": 6,
   "id": "4f275cee-37d6-4b90-9cc1-eb1372c18749",
   "metadata": {
    "tags": []
   },
   "outputs": [
    {
     "name": "stdout",
     "output_type": "stream",
     "text": [
      "00001:  /home/2649/repos/adfox/templates/training_set/sn2008ar.lnw\n",
      "sn2008ar, Ia-norm, Current R: 738.16\n",
      "\n",
      "00002:  /home/2649/repos/adfox/templates/training_set/sn2003lw.lnw\n",
      "sn2003lw, Ic-broad, Current R: 738.16\n",
      "\n",
      "00003:  /home/2649/repos/adfox/templates/training_set/sn1999ac.lnw\n",
      "sn1999ac, Ia-91T, Current R: 738.16\n",
      "\n",
      "00004:  /home/2649/repos/adfox/templates/training_set/sn1998dk.lnw\n",
      "sn1998dk, Ia-norm, Current R: 738.16\n",
      "\n",
      "00005:  /home/2649/repos/adfox/templates/training_set/sn2005gj.lnw\n",
      "sn2005gj, Ia-csm, Current R: 738.16\n",
      "\n"
     ]
    },
    {
     "ename": "KeyboardInterrupt",
     "evalue": "",
     "output_type": "error",
     "traceback": [
      "\u001b[0;31m---------------------------------------------------------------------------\u001b[0m",
      "\u001b[0;31mKeyboardInterrupt\u001b[0m                         Traceback (most recent call last)",
      "Input \u001b[0;32mIn [6]\u001b[0m, in \u001b[0;36m<cell line: 1>\u001b[0;34m()\u001b[0m\n\u001b[0;32m----> 1\u001b[0m \u001b[43mdegrade\u001b[49m\u001b[38;5;241;43m.\u001b[39;49m\u001b[43mdegrade_all\u001b[49m\u001b[43m(\u001b[49m\u001b[38;5;241;43m600\u001b[39;49m\u001b[43m,\u001b[49m\u001b[43m \u001b[49m\u001b[43mALL_DATA\u001b[49m\u001b[43m,\u001b[49m\u001b[43m \u001b[49m\u001b[43mLIBRARY_PATH\u001b[49m\u001b[43m)\u001b[49m\n",
      "File \u001b[0;32m~/repos/dgspec/degrade.py:327\u001b[0m, in \u001b[0;36mdegrade_all\u001b[0;34m(R, lnw_files, savepath, overwrite_R_dir, print_info)\u001b[0m\n\u001b[1;32m    325\u001b[0m \u001b[38;5;28;01mif\u001b[39;00m print_info:\n\u001b[1;32m    326\u001b[0m     \u001b[38;5;28mprint\u001b[39m(\u001b[38;5;124mf\u001b[39m\u001b[38;5;124m\"\u001b[39m\u001b[38;5;132;01m{\u001b[39;00m\u001b[38;5;28mint\u001b[39m(i\u001b[38;5;241m+\u001b[39m\u001b[38;5;241m1\u001b[39m)\u001b[38;5;132;01m:\u001b[39;00m\u001b[38;5;124m05\u001b[39m\u001b[38;5;132;01m}\u001b[39;00m\u001b[38;5;124m\"\u001b[39m, end\u001b[38;5;241m=\u001b[39m\u001b[38;5;124m\"\u001b[39m\u001b[38;5;124m:  \u001b[39m\u001b[38;5;124m\"\u001b[39m)\n\u001b[0;32m--> 327\u001b[0m \u001b[43mdegrade_lnw\u001b[49m\u001b[43m(\u001b[49m\u001b[43mlnw\u001b[49m\u001b[43m,\u001b[49m\u001b[43m \u001b[49m\u001b[43mR\u001b[49m\u001b[43m,\u001b[49m\u001b[43m \u001b[49m\u001b[43mR_dir\u001b[49m\u001b[43m,\u001b[49m\u001b[43m \u001b[49m\u001b[43mprint_info\u001b[49m\u001b[38;5;241;43m=\u001b[39;49m\u001b[43mprint_info\u001b[49m\u001b[43m)\u001b[49m\n",
      "File \u001b[0;32m~/repos/dgspec/degrade.py:295\u001b[0m, in \u001b[0;36mdegrade_lnw\u001b[0;34m(lnw, R, savepath, print_info)\u001b[0m\n\u001b[1;32m    293\u001b[0m \u001b[38;5;28;01mif\u001b[39;00m print_info:\n\u001b[1;32m    294\u001b[0m     \u001b[38;5;28mprint\u001b[39m(lnw)\n\u001b[0;32m--> 295\u001b[0m \u001b[43mdegrade\u001b[49m\u001b[43m(\u001b[49m\u001b[43mR\u001b[49m\u001b[43m,\u001b[49m\u001b[43m \u001b[49m\u001b[43mSNIDobj\u001b[49m\u001b[43m,\u001b[49m\u001b[43m \u001b[49m\u001b[43mprint_info\u001b[49m\u001b[38;5;241;43m=\u001b[39;49m\u001b[38;5;28;43;01mTrue\u001b[39;49;00m\u001b[43m)\u001b[49m\n\u001b[1;32m    296\u001b[0m utils\u001b[38;5;241m.\u001b[39mwrite_lnw(SNIDobj, overwrite\u001b[38;5;241m=\u001b[39m\u001b[38;5;28;01mTrue\u001b[39;00m)\n\u001b[1;32m    298\u001b[0m filename \u001b[38;5;241m=\u001b[39m \u001b[38;5;124m'\u001b[39m\u001b[38;5;124mnew_\u001b[39m\u001b[38;5;124m'\u001b[39m \u001b[38;5;241m+\u001b[39m SNIDobj\u001b[38;5;241m.\u001b[39mheader[\u001b[38;5;124m'\u001b[39m\u001b[38;5;124mSN\u001b[39m\u001b[38;5;124m'\u001b[39m] \u001b[38;5;241m+\u001b[39m \u001b[38;5;124m'\u001b[39m\u001b[38;5;124m.lnw\u001b[39m\u001b[38;5;124m'\u001b[39m\n",
      "File \u001b[0;32m~/repos/dgspec/degrade.py:213\u001b[0m, in \u001b[0;36mdegrade\u001b[0;34m(R, SNIDobj, wvl, flux, uncer, PSF_width, spectral_PSF, PSF_args, makegif, savepath, print_info)\u001b[0m\n\u001b[1;32m    209\u001b[0m     G \u001b[38;5;241m=\u001b[39m spectral_PSF(wvl, wvl[i], stddev[i], \u001b[38;5;241m*\u001b[39m\u001b[38;5;241m*\u001b[39mPSF_args)\n\u001b[1;32m    211\u001b[0m \u001b[38;5;66;03m# Renormalize the PSF so that the total integral is 1. This is\u001b[39;00m\n\u001b[1;32m    212\u001b[0m \u001b[38;5;66;03m# necessary to handle edge effects.\u001b[39;00m\n\u001b[0;32m--> 213\u001b[0m renorm \u001b[38;5;241m=\u001b[39m \u001b[43mnp\u001b[49m\u001b[38;5;241;43m.\u001b[39;49m\u001b[43mtrapz\u001b[49m\u001b[43m(\u001b[49m\u001b[43mG\u001b[49m\u001b[43m,\u001b[49m\u001b[43m \u001b[49m\u001b[43mx\u001b[49m\u001b[38;5;241;43m=\u001b[39;49m\u001b[43mwvl\u001b[49m\u001b[43m)\u001b[49m\n\u001b[1;32m    214\u001b[0m G \u001b[38;5;241m/\u001b[39m\u001b[38;5;241m=\u001b[39m renorm\n\u001b[1;32m    216\u001b[0m \u001b[38;5;66;03m# Perform one step of the integration of t\u001b[39;00m\n",
      "File \u001b[0;32m<__array_function__ internals>:5\u001b[0m, in \u001b[0;36mtrapz\u001b[0;34m(*args, **kwargs)\u001b[0m\n",
      "File \u001b[0;32m~/.conda/envs/fox/lib/python3.9/site-packages/numpy/lib/function_base.py:4085\u001b[0m, in \u001b[0;36mtrapz\u001b[0;34m(y, x, dx, axis)\u001b[0m\n\u001b[1;32m   4083\u001b[0m slice1 \u001b[38;5;241m=\u001b[39m [\u001b[38;5;28mslice\u001b[39m(\u001b[38;5;28;01mNone\u001b[39;00m)]\u001b[38;5;241m*\u001b[39mnd\n\u001b[1;32m   4084\u001b[0m slice2 \u001b[38;5;241m=\u001b[39m [\u001b[38;5;28mslice\u001b[39m(\u001b[38;5;28;01mNone\u001b[39;00m)]\u001b[38;5;241m*\u001b[39mnd\n\u001b[0;32m-> 4085\u001b[0m slice1[axis] \u001b[38;5;241m=\u001b[39m \u001b[38;5;28;43mslice\u001b[39;49m\u001b[43m(\u001b[49m\u001b[38;5;241;43m1\u001b[39;49m\u001b[43m,\u001b[49m\u001b[43m \u001b[49m\u001b[38;5;28;43;01mNone\u001b[39;49;00m\u001b[43m)\u001b[49m\n\u001b[1;32m   4086\u001b[0m slice2[axis] \u001b[38;5;241m=\u001b[39m \u001b[38;5;28mslice\u001b[39m(\u001b[38;5;28;01mNone\u001b[39;00m, \u001b[38;5;241m-\u001b[39m\u001b[38;5;241m1\u001b[39m)\n\u001b[1;32m   4087\u001b[0m \u001b[38;5;28;01mtry\u001b[39;00m:\n",
      "\u001b[0;31mKeyboardInterrupt\u001b[0m: "
     ]
    }
   ],
   "source": [
    "degrade.degrade_all(600, ALL_DATA, LIBRARY_PATH)"
   ]
  },
  {
   "cell_type": "code",
   "execution_count": null,
   "id": "ed39adf2-f8ae-4dc0-86bd-8a3fb70aea43",
   "metadata": {},
   "outputs": [],
   "source": [
    "file = \"/home/2649/repos/adfox/templates/training_set/sn94D.lnw\"\n",
    "SNIDobj = SNIDsn.SNIDsn()\n",
    "SNIDobj.loadSNIDlnw(file)\n",
    "SNIDobj.header"
   ]
  },
  {
   "cell_type": "code",
   "execution_count": null,
   "id": "cdaa90ee-c597-4072-b406-51056955ae2e",
   "metadata": {},
   "outputs": [],
   "source": []
  }
 ],
 "metadata": {
  "kernelspec": {
   "display_name": "Python 3 (ipykernel)",
   "language": "python",
   "name": "python3"
  },
  "language_info": {
   "codemirror_mode": {
    "name": "ipython",
    "version": 3
   },
   "file_extension": ".py",
   "mimetype": "text/x-python",
   "name": "python",
   "nbconvert_exporter": "python",
   "pygments_lexer": "ipython3",
   "version": "3.9.7"
  }
 },
 "nbformat": 4,
 "nbformat_minor": 5
}
